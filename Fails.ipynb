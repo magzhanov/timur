{
 "nbformat": 4,
 "nbformat_minor": 2,
 "metadata": {
  "language_info": {
   "name": "python",
   "codemirror_mode": {
    "name": "ipython",
    "version": 3
   },
   "version": "3.7.4-final"
  },
  "orig_nbformat": 2,
  "file_extension": ".py",
  "mimetype": "text/x-python",
  "name": "python",
  "npconvert_exporter": "python",
  "pygments_lexer": "ipython3",
  "version": 3,
  "kernelspec": {
   "name": "python37464bitparcvenv5a3c5577277148d5b2cd0bf76a435d0e",
   "display_name": "Python 3.7.4 64-bit ('parc': venv)"
  }
 },
 "cells": [
  {
   "cell_type": "code",
   "execution_count": 54,
   "metadata": {},
   "outputs": [],
   "source": [
    "import pandas as pd"
   ]
  },
  {
   "cell_type": "code",
   "execution_count": 57,
   "metadata": {},
   "outputs": [],
   "source": [
    "df = pd.read_csv(\"Fails.csv\", sep=\",\",)"
   ]
  },
  {
   "cell_type": "code",
   "execution_count": 56,
   "metadata": {},
   "outputs": [
    {
     "output_type": "execute_result",
     "data": {
      "text/plain": "   Unnamed: 0  year                                                url  type  \\\n0           0  1998  https://www.muniauction.com/pma/results/SanFra...  Bond   \n1           1  1998  https://www.muniauction.com/pma/results/SanFra...  Bond   \n2           2  1998  https://www.muniauction.com/pma/results/Volusi...  Bond   \n3           3  1998  https://www.muniauction.com/pma/results/Volusi...  Bond   \n4           4  1998  https://www.muniauction.com/pma/results/Pittsb...  Bond   \n\n   list index out of range TIME  'Bidder'  \\\n0                           1.0       NaN   \n1                           NaN       1.0   \n2                           1.0       NaN   \n3                           NaN       1.0   \n4                           1.0       NaN   \n\n   Could not get first item for //table[@cellpadding=\"3\"] query of class XpathSelector INFO  \\\n0                                                NaN                                          \n1                                                NaN                                          \n2                                                NaN                                          \n3                                                NaN                                          \n4                                                NaN                                          \n\n   local variable 'df' referenced before assignment  1 TIME  Connection Faild  \\\n0                                               NaN     NaN               NaN   \n1                                               NaN     NaN               NaN   \n2                                               NaN     NaN               NaN   \n3                                               NaN     NaN               NaN   \n4                                               NaN     NaN               NaN   \n\n   can only concatenate str (not \"float\") to str  \n0                                            NaN  \n1                                            NaN  \n2                                            NaN  \n3                                            NaN  \n4                                            NaN  ",
      "text/html": "<div>\n<style scoped>\n    .dataframe tbody tr th:only-of-type {\n        vertical-align: middle;\n    }\n\n    .dataframe tbody tr th {\n        vertical-align: top;\n    }\n\n    .dataframe thead th {\n        text-align: right;\n    }\n</style>\n<table border=\"1\" class=\"dataframe\">\n  <thead>\n    <tr style=\"text-align: right;\">\n      <th></th>\n      <th>Unnamed: 0</th>\n      <th>year</th>\n      <th>url</th>\n      <th>type</th>\n      <th>list index out of range TIME</th>\n      <th>'Bidder'</th>\n      <th>Could not get first item for //table[@cellpadding=\"3\"] query of class XpathSelector INFO</th>\n      <th>local variable 'df' referenced before assignment</th>\n      <th>1 TIME</th>\n      <th>Connection Faild</th>\n      <th>can only concatenate str (not \"float\") to str</th>\n    </tr>\n  </thead>\n  <tbody>\n    <tr>\n      <th>0</th>\n      <td>0</td>\n      <td>1998</td>\n      <td>https://www.muniauction.com/pma/results/SanFra...</td>\n      <td>Bond</td>\n      <td>1.0</td>\n      <td>NaN</td>\n      <td>NaN</td>\n      <td>NaN</td>\n      <td>NaN</td>\n      <td>NaN</td>\n      <td>NaN</td>\n    </tr>\n    <tr>\n      <th>1</th>\n      <td>1</td>\n      <td>1998</td>\n      <td>https://www.muniauction.com/pma/results/SanFra...</td>\n      <td>Bond</td>\n      <td>NaN</td>\n      <td>1.0</td>\n      <td>NaN</td>\n      <td>NaN</td>\n      <td>NaN</td>\n      <td>NaN</td>\n      <td>NaN</td>\n    </tr>\n    <tr>\n      <th>2</th>\n      <td>2</td>\n      <td>1998</td>\n      <td>https://www.muniauction.com/pma/results/Volusi...</td>\n      <td>Bond</td>\n      <td>1.0</td>\n      <td>NaN</td>\n      <td>NaN</td>\n      <td>NaN</td>\n      <td>NaN</td>\n      <td>NaN</td>\n      <td>NaN</td>\n    </tr>\n    <tr>\n      <th>3</th>\n      <td>3</td>\n      <td>1998</td>\n      <td>https://www.muniauction.com/pma/results/Volusi...</td>\n      <td>Bond</td>\n      <td>NaN</td>\n      <td>1.0</td>\n      <td>NaN</td>\n      <td>NaN</td>\n      <td>NaN</td>\n      <td>NaN</td>\n      <td>NaN</td>\n    </tr>\n    <tr>\n      <th>4</th>\n      <td>4</td>\n      <td>1998</td>\n      <td>https://www.muniauction.com/pma/results/Pittsb...</td>\n      <td>Bond</td>\n      <td>1.0</td>\n      <td>NaN</td>\n      <td>NaN</td>\n      <td>NaN</td>\n      <td>NaN</td>\n      <td>NaN</td>\n      <td>NaN</td>\n    </tr>\n  </tbody>\n</table>\n</div>"
     },
     "metadata": {},
     "execution_count": 56
    }
   ],
   "source": [
    "df.head()"
   ]
  },
  {
   "cell_type": "code",
   "execution_count": 70,
   "metadata": {},
   "outputs": [
    {
     "output_type": "execute_result",
     "data": {
      "text/plain": "'https://www.bidumbaugh.com/pma/results/Carnegie.PL.of.SteubenCo.GOFB.10.AON/bid_summary.html'"
     },
     "metadata": {},
     "execution_count": 70
    }
   ],
   "source": [
    "df[df['Connection Faild'] == 1 ].iloc[0]['url']\n",
    ""
   ]
  },
  {
   "cell_type": "code",
   "execution_count": 69,
   "metadata": {},
   "outputs": [
    {
     "output_type": "execute_result",
     "data": {
      "text/plain": "Unnamed: 0                                                                                  506\nyear                                                                                        506\nurl                                                                                         506\ntype                                                                                        506\nlist index out of range TIME                                                                  0\n'Bidder'                                                                                      0\nCould not get first item for //table[@cellpadding=\"3\"] query of class XpathSelector INFO      0\nlocal variable 'df' referenced before assignment                                              0\n1 TIME                                                                                        0\nConnection Faild                                                                            506\ncan only concatenate str (not \"float\") to str                                                 0\ndtype: int64"
     },
     "metadata": {},
     "execution_count": 69
    }
   ],
   "source": [
    "df[df['Connection Faild'] == 1 ].count()\n",
    ""
   ]
  }
 ]
}